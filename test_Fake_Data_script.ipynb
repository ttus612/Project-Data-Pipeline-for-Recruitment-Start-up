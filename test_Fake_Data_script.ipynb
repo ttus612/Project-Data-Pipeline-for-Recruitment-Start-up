{
 "cells": [
  {
   "cell_type": "code",
   "execution_count": 1,
   "metadata": {},
   "outputs": [],
   "source": [
    "from cassandra.cluster import Cluster\n",
    "from cassandra.cqlengine import columns\n",
    "from cassandra.cqlengine.models import  Model\n",
    "from cassandra.cqlengine.management import sync_table\n",
    "from cassandra.cqlengine import connection\n",
    "from cassandra.query import dict_factory\n",
    "from datetime import datetime, timedelta\n",
    "import time\n",
    "import cassandra\n",
    "import random\n",
    "import uuid\n",
    "import math\n",
    "import pandas as pd\n",
    "pd.set_option(\"display.max_rows\", None, \"display.max_columns\", None)\n",
    "import datetime\n",
    "from sqlalchemy import create_engine\n",
    "import pandas as pd\n",
    "import numpy as np\n",
    "import mysql.connector"
   ]
  },
  {
   "cell_type": "code",
   "execution_count": 2,
   "metadata": {},
   "outputs": [],
   "source": [
    "host = 'localhost'\n",
    "port = '3306'\n",
    "db_name = 'Data_Warehouse'\n",
    "user = 'root'\n",
    "password = '1'\n",
    "url = 'jdbc:mysql://' + host + ':' + port + '/' + db_name\n",
    "driver = \"com.mysql.cj.jdbc.Driver\"\n",
    "\n",
    "keyspace = 'study_data_engineering'\n",
    "cassandra_login = 'cassandra'\n",
    "cassandra_password = 'cassandra'\n",
    "cluster = Cluster()\n",
    "session = cluster.connect(keyspace)"
   ]
  },
  {
   "cell_type": "code",
   "execution_count": 3,
   "metadata": {},
   "outputs": [],
   "source": [
    "\n",
    "def get_data_from_job(user,password,host,database):\n",
    "    cnx = mysql.connector.connect(user=user, password=password,\n",
    "                                         host=host,\n",
    "                                      database=database)\n",
    "    query = \"\"\"select id as job_id,campaign_id , group_id , company_id from job\"\"\"\n",
    "    mysql_data = pd.read_sql(query,cnx)\n",
    "    return mysql_data\n",
    "\n",
    "def get_data_from_publisher(user,password,host,database):\n",
    "    cnx = mysql.connector.connect(user=user, password=password,\n",
    "                                         host=host,\n",
    "                                      database=database)\n",
    "    query = \"\"\"select distinct(id) as publisher_id from master_publisher\"\"\"\n",
    "    mysql_data = pd.read_sql(query,cnx)\n",
    "    return mysql_data\n",
    "\n",
    "\n",
    "def generating_dummy_data(n_records,session,user,password,host,db_name):\n",
    "    publisher = get_data_from_publisher(user,password,host,db_name)\n",
    "    publisher = publisher['publisher_id'].to_list()\n",
    "    jobs_data = get_data_from_job(user,password,host,db_name)\n",
    "    job_list = jobs_data['job_id'].to_list()\n",
    "    campaign_list = jobs_data['campaign_id'].to_list()\n",
    "    company_list = jobs_data['company_id'].to_list()\n",
    "    group_list = jobs_data[jobs_data['group_id'].notnull()]['group_id'].astype(int).to_list()\n",
    "    i = 0 \n",
    "    fake_records = n_records\n",
    "    while i <= fake_records:\n",
    "        create_time = str(cassandra.util.uuid_from_time(datetime.datetime.now()))\n",
    "        bid = random.randint(0,1)\n",
    "        interact = ['click','conversion','qualified','unqualified']\n",
    "        custom_track = random.choices(interact,weights=(70,10,10,10))[0]\n",
    "        job_id = random.choice(job_list)\n",
    "        publisher_id = random.choice(publisher)\n",
    "        group_id = random.choice(group_list)\n",
    "        campaign_id = random.choice(campaign_list)\n",
    "        ts = datetime.datetime.now().strftime('%Y-%m-%d %H:%M:%S')\n",
    "        sql = \"\"\" INSERT INTO tracking (create_time,bid,campaign_id,custom_track,group_id,job_id,publisher_id,ts) VALUES ('{}',{},{},'{}',{},{},{},'{}')\"\"\".format(create_time,bid,campaign_id,custom_track,group_id,job_id,publisher_id,ts)\n",
    "        print(sql)\n",
    "        session.execute(sql)\n",
    "        i+=1 \n",
    "    return print(\"Data Generated Successfully\")\n"
   ]
  },
  {
   "cell_type": "code",
   "execution_count": 4,
   "metadata": {},
   "outputs": [
    {
     "name": "stderr",
     "output_type": "stream",
     "text": [
      "C:\\Users\\ACER\\AppData\\Local\\Temp\\ipykernel_7208\\1639888444.py:14: UserWarning: pandas only supports SQLAlchemy connectable (engine/connection) or database string URI or sqlite3 DBAPI2 connection. Other DBAPI2 objects are not tested. Please consider using SQLAlchemy.\n",
      "  mysql_data = pd.read_sql(query,cnx)\n",
      "C:\\Users\\ACER\\AppData\\Local\\Temp\\ipykernel_7208\\1639888444.py:6: UserWarning: pandas only supports SQLAlchemy connectable (engine/connection) or database string URI or sqlite3 DBAPI2 connection. Other DBAPI2 objects are not tested. Please consider using SQLAlchemy.\n",
      "  mysql_data = pd.read_sql(query,cnx)\n"
     ]
    },
    {
     "name": "stdout",
     "output_type": "stream",
     "text": [
      " INSERT INTO tracking (create_time,bid,campaign_id,custom_track,group_id,job_id,publisher_id,ts) VALUES ('df8004fe-2be4-11ef-9796-9976a5bb1015',1,12,'click',17,878,1,'2024-06-16 13:32:27')\n",
      " INSERT INTO tracking (create_time,bid,campaign_id,custom_track,group_id,job_id,publisher_id,ts) VALUES ('df82b6e0-2be4-11ef-9524-344ec5e7969b',1,48,'click',10,1788,27,'2024-06-16 13:32:27')\n",
      " INSERT INTO tracking (create_time,bid,campaign_id,custom_track,group_id,job_id,publisher_id,ts) VALUES ('df84b81e-2be4-11ef-a272-9ddd85e40b26',0,1,'click',41,978,38,'2024-06-16 13:32:27')\n",
      " INSERT INTO tracking (create_time,bid,campaign_id,custom_track,group_id,job_id,publisher_id,ts) VALUES ('df877dce-2be4-11ef-8a94-6ce9638e4608',1,10,'click',21,1180,38,'2024-06-16 13:32:27')\n",
      " INSERT INTO tracking (create_time,bid,campaign_id,custom_track,group_id,job_id,publisher_id,ts) VALUES ('df897408-2be4-11ef-9e56-091a8716fece',1,61,'click',32,1300,31,'2024-06-16 13:32:27')\n",
      " INSERT INTO tracking (create_time,bid,campaign_id,custom_track,group_id,job_id,publisher_id,ts) VALUES ('df8bc35c-2be4-11ef-86aa-37c613026a6f',1,69,'click',11,288,23,'2024-06-16 13:32:27')\n",
      " INSERT INTO tracking (create_time,bid,campaign_id,custom_track,group_id,job_id,publisher_id,ts) VALUES ('df8e3498-2be4-11ef-b95f-a84d974b5c5a',1,61,'click',32,1256,22,'2024-06-16 13:32:27')\n",
      " INSERT INTO tracking (create_time,bid,campaign_id,custom_track,group_id,job_id,publisher_id,ts) VALUES ('df9081bc-2be4-11ef-9b28-3a8e5ab61d04',1,221,'click',25,1549,23,'2024-06-16 13:32:27')\n",
      " INSERT INTO tracking (create_time,bid,campaign_id,custom_track,group_id,job_id,publisher_id,ts) VALUES ('df92f5f0-2be4-11ef-8046-49ed6e5ed07c',1,10,'qualified',25,967,35,'2024-06-16 13:32:27')\n",
      " INSERT INTO tracking (create_time,bid,campaign_id,custom_track,group_id,job_id,publisher_id,ts) VALUES ('df954bf2-2be4-11ef-8764-e3113d978093',0,11,'click',27,2050,12,'2024-06-16 13:32:27')\n",
      " INSERT INTO tracking (create_time,bid,campaign_id,custom_track,group_id,job_id,publisher_id,ts) VALUES ('df977f94-2be4-11ef-afb5-64aee0097930',0,10,'click',18,551,4,'2024-06-16 13:32:27')\n",
      " INSERT INTO tracking (create_time,bid,campaign_id,custom_track,group_id,job_id,publisher_id,ts) VALUES ('df99e41e-2be4-11ef-aea5-a3c7b44100a3',1,10,'conversion',10,93,16,'2024-06-16 13:32:27')\n",
      " INSERT INTO tracking (create_time,bid,campaign_id,custom_track,group_id,job_id,publisher_id,ts) VALUES ('df9c3b2e-2be4-11ef-b7e2-bb01258465f2',0,5,'click',10,446,33,'2024-06-16 13:32:27')\n",
      " INSERT INTO tracking (create_time,bid,campaign_id,custom_track,group_id,job_id,publisher_id,ts) VALUES ('df9eaa76-2be4-11ef-a820-4c9369a14615',1,79,'qualified',22,1352,13,'2024-06-16 13:32:27')\n",
      " INSERT INTO tracking (create_time,bid,campaign_id,custom_track,group_id,job_id,publisher_id,ts) VALUES ('dfa10d2a-2be4-11ef-87c5-2dcefc849091',1,53,'click',15,73,35,'2024-06-16 13:32:27')\n",
      "Data Generated Successfully\n"
     ]
    },
    {
     "name": "stderr",
     "output_type": "stream",
     "text": [
      "C:\\Users\\ACER\\AppData\\Local\\Temp\\ipykernel_7208\\1639888444.py:14: UserWarning: pandas only supports SQLAlchemy connectable (engine/connection) or database string URI or sqlite3 DBAPI2 connection. Other DBAPI2 objects are not tested. Please consider using SQLAlchemy.\n",
      "  mysql_data = pd.read_sql(query,cnx)\n",
      "C:\\Users\\ACER\\AppData\\Local\\Temp\\ipykernel_7208\\1639888444.py:6: UserWarning: pandas only supports SQLAlchemy connectable (engine/connection) or database string URI or sqlite3 DBAPI2 connection. Other DBAPI2 objects are not tested. Please consider using SQLAlchemy.\n",
      "  mysql_data = pd.read_sql(query,cnx)\n"
     ]
    },
    {
     "name": "stdout",
     "output_type": "stream",
     "text": [
      " INSERT INTO tracking (create_time,bid,campaign_id,custom_track,group_id,job_id,publisher_id,ts) VALUES ('ec1c73fa-2be4-11ef-8d7c-6214819bb999',0,1,'qualified',15,1539,20,'2024-06-16 13:32:48')\n",
      " INSERT INTO tracking (create_time,bid,campaign_id,custom_track,group_id,job_id,publisher_id,ts) VALUES ('ec1f1fc4-2be4-11ef-b673-20d3664a7251',0,48,'unqualified',10,137,28,'2024-06-16 13:32:48')\n",
      " INSERT INTO tracking (create_time,bid,campaign_id,custom_track,group_id,job_id,publisher_id,ts) VALUES ('ec2134da-2be4-11ef-9a26-47e5f5c674a7',1,144,'click',41,2020,32,'2024-06-16 13:32:48')\n",
      " INSERT INTO tracking (create_time,bid,campaign_id,custom_track,group_id,job_id,publisher_id,ts) VALUES ('ec238118-2be4-11ef-8105-4fa7bf50806b',1,90,'unqualified',18,2044,30,'2024-06-16 13:32:48')\n",
      " INSERT INTO tracking (create_time,bid,campaign_id,custom_track,group_id,job_id,publisher_id,ts) VALUES ('ec25b9e2-2be4-11ef-84d7-7474de723de1',1,70,'click',27,2020,5,'2024-06-16 13:32:48')\n",
      " INSERT INTO tracking (create_time,bid,campaign_id,custom_track,group_id,job_id,publisher_id,ts) VALUES ('ec27e64a-2be4-11ef-9bbc-c6bb06342338',1,61,'click',19,454,3,'2024-06-16 13:32:48')\n",
      " INSERT INTO tracking (create_time,bid,campaign_id,custom_track,group_id,job_id,publisher_id,ts) VALUES ('ec2a74b4-2be4-11ef-8293-d0ff6f4bbdf6',0,48,'click',10,1223,23,'2024-06-16 13:32:48')\n",
      " INSERT INTO tracking (create_time,bid,campaign_id,custom_track,group_id,job_id,publisher_id,ts) VALUES ('ec2cc2b4-2be4-11ef-b055-b13299a9ac8e',1,61,'click',35,1213,30,'2024-06-16 13:32:48')\n",
      " INSERT INTO tracking (create_time,bid,campaign_id,custom_track,group_id,job_id,publisher_id,ts) VALUES ('ec2f2f5e-2be4-11ef-9047-5f0e68a2e494',0,1,'click',16,1793,11,'2024-06-16 13:32:48')\n",
      " INSERT INTO tracking (create_time,bid,campaign_id,custom_track,group_id,job_id,publisher_id,ts) VALUES ('ec317eda-2be4-11ef-8ffe-e84e0a332340',0,127,'click',27,391,36,'2024-06-16 13:32:48')\n",
      " INSERT INTO tracking (create_time,bid,campaign_id,custom_track,group_id,job_id,publisher_id,ts) VALUES ('ec33d9a0-2be4-11ef-816f-5a9c09ad88de',0,1,'unqualified',10,92,16,'2024-06-16 13:32:48')\n",
      " INSERT INTO tracking (create_time,bid,campaign_id,custom_track,group_id,job_id,publisher_id,ts) VALUES ('ec3645e6-2be4-11ef-9e1a-60db713de820',1,1,'click',14,1808,10,'2024-06-16 13:32:48')\n",
      " INSERT INTO tracking (create_time,bid,campaign_id,custom_track,group_id,job_id,publisher_id,ts) VALUES ('ec38b7b8-2be4-11ef-9de8-f0c101f8dabe',1,55,'click',10,1386,34,'2024-06-16 13:32:48')\n",
      " INSERT INTO tracking (create_time,bid,campaign_id,custom_track,group_id,job_id,publisher_id,ts) VALUES ('ec3b3d3a-2be4-11ef-aacc-ba2f0804e8e9',0,1,'click',10,392,24,'2024-06-16 13:32:48')\n",
      " INSERT INTO tracking (create_time,bid,campaign_id,custom_track,group_id,job_id,publisher_id,ts) VALUES ('ec3d77b2-2be4-11ef-ac65-45e5d781b815',1,33,'click',10,493,27,'2024-06-16 13:32:48')\n",
      "Data Generated Successfully\n"
     ]
    },
    {
     "name": "stderr",
     "output_type": "stream",
     "text": [
      "C:\\Users\\ACER\\AppData\\Local\\Temp\\ipykernel_7208\\1639888444.py:14: UserWarning: pandas only supports SQLAlchemy connectable (engine/connection) or database string URI or sqlite3 DBAPI2 connection. Other DBAPI2 objects are not tested. Please consider using SQLAlchemy.\n",
      "  mysql_data = pd.read_sql(query,cnx)\n",
      "C:\\Users\\ACER\\AppData\\Local\\Temp\\ipykernel_7208\\1639888444.py:6: UserWarning: pandas only supports SQLAlchemy connectable (engine/connection) or database string URI or sqlite3 DBAPI2 connection. Other DBAPI2 objects are not tested. Please consider using SQLAlchemy.\n",
      "  mysql_data = pd.read_sql(query,cnx)\n"
     ]
    },
    {
     "name": "stdout",
     "output_type": "stream",
     "text": [
      " INSERT INTO tracking (create_time,bid,campaign_id,custom_track,group_id,job_id,publisher_id,ts) VALUES ('f8b75634-2be4-11ef-adc8-1cde6438c7c2',0,10,'click',32,1555,20,'2024-06-16 13:33:09')\n",
      " INSERT INTO tracking (create_time,bid,campaign_id,custom_track,group_id,job_id,publisher_id,ts) VALUES ('f8ba0082-2be4-11ef-a13f-6b9b237b36eb',0,1,'click',10,502,9,'2024-06-16 13:33:09')\n",
      " INSERT INTO tracking (create_time,bid,campaign_id,custom_track,group_id,job_id,publisher_id,ts) VALUES ('f8bc6b74-2be4-11ef-9c91-725515525a86',1,193,'conversion',26,102,32,'2024-06-16 13:33:09')\n",
      " INSERT INTO tracking (create_time,bid,campaign_id,custom_track,group_id,job_id,publisher_id,ts) VALUES ('f8bebf5a-2be4-11ef-b753-c5f618e0dc5c',1,11,'click',18,1416,11,'2024-06-16 13:33:09')\n",
      " INSERT INTO tracking (create_time,bid,campaign_id,custom_track,group_id,job_id,publisher_id,ts) VALUES ('f8c14e8c-2be4-11ef-bf3a-5adae38506bd',1,61,'click',16,1122,34,'2024-06-16 13:33:09')\n",
      " INSERT INTO tracking (create_time,bid,campaign_id,custom_track,group_id,job_id,publisher_id,ts) VALUES ('f8c3999e-2be4-11ef-af7e-97549f71a4b9',0,1,'click',11,1700,33,'2024-06-16 13:33:09')\n",
      " INSERT INTO tracking (create_time,bid,campaign_id,custom_track,group_id,job_id,publisher_id,ts) VALUES ('f8c5defc-2be4-11ef-a1e2-c4775defadec',0,61,'click',41,491,2,'2024-06-16 13:33:09')\n",
      " INSERT INTO tracking (create_time,bid,campaign_id,custom_track,group_id,job_id,publisher_id,ts) VALUES ('f8c8322e-2be4-11ef-ac31-f7a6b15d273d',1,1,'click',35,1261,28,'2024-06-16 13:33:09')\n",
      " INSERT INTO tracking (create_time,bid,campaign_id,custom_track,group_id,job_id,publisher_id,ts) VALUES ('f8ca96b8-2be4-11ef-90d6-1bc6c27bea9c',0,1,'click',25,423,34,'2024-06-16 13:33:09')\n",
      " INSERT INTO tracking (create_time,bid,campaign_id,custom_track,group_id,job_id,publisher_id,ts) VALUES ('f8ccc14a-2be4-11ef-8aea-f539245a8e41',1,58,'unqualified',18,618,23,'2024-06-16 13:33:09')\n",
      " INSERT INTO tracking (create_time,bid,campaign_id,custom_track,group_id,job_id,publisher_id,ts) VALUES ('f8cf56ee-2be4-11ef-9a19-d64cdb584515',1,11,'click',26,663,3,'2024-06-16 13:33:09')\n",
      " INSERT INTO tracking (create_time,bid,campaign_id,custom_track,group_id,job_id,publisher_id,ts) VALUES ('f8d17f5a-2be4-11ef-888d-590e31101810',0,117,'click',32,920,12,'2024-06-16 13:33:09')\n",
      " INSERT INTO tracking (create_time,bid,campaign_id,custom_track,group_id,job_id,publisher_id,ts) VALUES ('f8d41da0-2be4-11ef-9afa-66f081940650',1,5,'unqualified',41,1226,37,'2024-06-16 13:33:09')\n",
      " INSERT INTO tracking (create_time,bid,campaign_id,custom_track,group_id,job_id,publisher_id,ts) VALUES ('f8d68216-2be4-11ef-a11b-400b640f208a',0,48,'click',41,1528,27,'2024-06-16 13:33:09')\n",
      "Data Generated Successfully\n"
     ]
    },
    {
     "name": "stderr",
     "output_type": "stream",
     "text": [
      "C:\\Users\\ACER\\AppData\\Local\\Temp\\ipykernel_7208\\1639888444.py:14: UserWarning: pandas only supports SQLAlchemy connectable (engine/connection) or database string URI or sqlite3 DBAPI2 connection. Other DBAPI2 objects are not tested. Please consider using SQLAlchemy.\n",
      "  mysql_data = pd.read_sql(query,cnx)\n",
      "C:\\Users\\ACER\\AppData\\Local\\Temp\\ipykernel_7208\\1639888444.py:6: UserWarning: pandas only supports SQLAlchemy connectable (engine/connection) or database string URI or sqlite3 DBAPI2 connection. Other DBAPI2 objects are not tested. Please consider using SQLAlchemy.\n",
      "  mysql_data = pd.read_sql(query,cnx)\n"
     ]
    },
    {
     "name": "stdout",
     "output_type": "stream",
     "text": [
      " INSERT INTO tracking (create_time,bid,campaign_id,custom_track,group_id,job_id,publisher_id,ts) VALUES ('05362e3a-2be5-11ef-94c1-aafd231c368e',1,193,'conversion',10,1001,35,'2024-06-16 13:33:30')\n",
      " INSERT INTO tracking (create_time,bid,campaign_id,custom_track,group_id,job_id,publisher_id,ts) VALUES ('053891ac-2be5-11ef-aa1f-d61ac7031290',0,12,'click',17,180,17,'2024-06-16 13:33:30')\n",
      " INSERT INTO tracking (create_time,bid,campaign_id,custom_track,group_id,job_id,publisher_id,ts) VALUES ('053acc9c-2be5-11ef-bc15-7934de0d704e',0,63,'click',12,1973,10,'2024-06-16 13:33:30')\n",
      " INSERT INTO tracking (create_time,bid,campaign_id,custom_track,group_id,job_id,publisher_id,ts) VALUES ('053d44f4-2be5-11ef-b713-c8659908f4af',1,70,'click',41,1397,22,'2024-06-16 13:33:30')\n",
      " INSERT INTO tracking (create_time,bid,campaign_id,custom_track,group_id,job_id,publisher_id,ts) VALUES ('053faa5a-2be5-11ef-bfcb-7eef938139d0',1,11,'click',32,587,15,'2024-06-16 13:33:30')\n",
      " INSERT INTO tracking (create_time,bid,campaign_id,custom_track,group_id,job_id,publisher_id,ts) VALUES ('054212ae-2be5-11ef-a98e-ef090bc63d87',1,48,'click',10,502,10,'2024-06-16 13:33:30')\n",
      " INSERT INTO tracking (create_time,bid,campaign_id,custom_track,group_id,job_id,publisher_id,ts) VALUES ('05447b0c-2be5-11ef-b0c0-bf8b94f77c48',1,103,'click',32,1801,24,'2024-06-16 13:33:30')\n",
      " INSERT INTO tracking (create_time,bid,campaign_id,custom_track,group_id,job_id,publisher_id,ts) VALUES ('0546deec-2be5-11ef-a291-473f95b8542e',1,79,'click',37,1795,22,'2024-06-16 13:33:30')\n",
      " INSERT INTO tracking (create_time,bid,campaign_id,custom_track,group_id,job_id,publisher_id,ts) VALUES ('05494f56-2be5-11ef-9a06-7ecdd99db1fc',1,61,'click',41,1569,30,'2024-06-16 13:33:30')\n",
      " INSERT INTO tracking (create_time,bid,campaign_id,custom_track,group_id,job_id,publisher_id,ts) VALUES ('054b9b80-2be5-11ef-9c28-89ba104639e4',0,5,'click',12,963,36,'2024-06-16 13:33:30')\n",
      " INSERT INTO tracking (create_time,bid,campaign_id,custom_track,group_id,job_id,publisher_id,ts) VALUES ('054dd440-2be5-11ef-98fa-9e4eacadcbd1',1,1,'click',35,418,32,'2024-06-16 13:33:30')\n",
      " INSERT INTO tracking (create_time,bid,campaign_id,custom_track,group_id,job_id,publisher_id,ts) VALUES ('0550201a-2be5-11ef-b470-45eed860d4af',0,10,'click',32,653,3,'2024-06-16 13:33:30')\n",
      " INSERT INTO tracking (create_time,bid,campaign_id,custom_track,group_id,job_id,publisher_id,ts) VALUES ('05526c9e-2be5-11ef-930e-7f9e6a3dc3cf',1,12,'click',10,546,37,'2024-06-16 13:33:30')\n",
      " INSERT INTO tracking (create_time,bid,campaign_id,custom_track,group_id,job_id,publisher_id,ts) VALUES ('05551458-2be5-11ef-a5ce-f57cdcce46cc',1,1,'click',10,735,5,'2024-06-16 13:33:30')\n",
      " INSERT INTO tracking (create_time,bid,campaign_id,custom_track,group_id,job_id,publisher_id,ts) VALUES ('05575a2e-2be5-11ef-ba09-409d6930e2d7',1,61,'click',16,470,20,'2024-06-16 13:33:30')\n",
      " INSERT INTO tracking (create_time,bid,campaign_id,custom_track,group_id,job_id,publisher_id,ts) VALUES ('0559c6f6-2be5-11ef-8a97-787a570bc74d',0,1,'qualified',35,2042,33,'2024-06-16 13:33:30')\n",
      " INSERT INTO tracking (create_time,bid,campaign_id,custom_track,group_id,job_id,publisher_id,ts) VALUES ('055c183e-2be5-11ef-91b4-39b7da31adcb',1,61,'unqualified',17,1895,32,'2024-06-16 13:33:30')\n",
      " INSERT INTO tracking (create_time,bid,campaign_id,custom_track,group_id,job_id,publisher_id,ts) VALUES ('055e9d70-2be5-11ef-8e46-242105838c07',0,10,'qualified',10,543,20,'2024-06-16 13:33:30')\n",
      " INSERT INTO tracking (create_time,bid,campaign_id,custom_track,group_id,job_id,publisher_id,ts) VALUES ('0560efa8-2be5-11ef-a58a-95af48b83d7c',0,12,'click',26,317,33,'2024-06-16 13:33:30')\n",
      "Data Generated Successfully\n"
     ]
    },
    {
     "ename": "KeyboardInterrupt",
     "evalue": "",
     "output_type": "error",
     "traceback": [
      "\u001b[1;31m---------------------------------------------------------------------------\u001b[0m",
      "\u001b[1;31mKeyboardInterrupt\u001b[0m                         Traceback (most recent call last)",
      "Cell \u001b[1;32mIn[4], line 4\u001b[0m\n\u001b[0;32m      2\u001b[0m \u001b[38;5;28;01mwhile\u001b[39;00m status \u001b[38;5;241m==\u001b[39m \u001b[38;5;124m\"\u001b[39m\u001b[38;5;124mON\u001b[39m\u001b[38;5;124m\"\u001b[39m:\n\u001b[0;32m      3\u001b[0m     generating_dummy_data(n_records \u001b[38;5;241m=\u001b[39m random\u001b[38;5;241m.\u001b[39mrandint(\u001b[38;5;241m1\u001b[39m,\u001b[38;5;241m20\u001b[39m),session \u001b[38;5;241m=\u001b[39m session , user \u001b[38;5;241m=\u001b[39m user , password \u001b[38;5;241m=\u001b[39m password , host \u001b[38;5;241m=\u001b[39m host , db_name \u001b[38;5;241m=\u001b[39m db_name )\n\u001b[1;32m----> 4\u001b[0m     time\u001b[38;5;241m.\u001b[39msleep(\u001b[38;5;241m20\u001b[39m)\n",
      "\u001b[1;31mKeyboardInterrupt\u001b[0m: "
     ]
    }
   ],
   "source": [
    "status = \"ON\"\n",
    "while status == \"ON\":\n",
    "    generating_dummy_data(n_records = random.randint(1,20),session = session , user = user , password = password , host = host , db_name = db_name )\n",
    "    time.sleep(20)\n"
   ]
  }
 ],
 "metadata": {
  "kernelspec": {
   "display_name": "base",
   "language": "python",
   "name": "python3"
  },
  "language_info": {
   "codemirror_mode": {
    "name": "ipython",
    "version": 3
   },
   "file_extension": ".py",
   "mimetype": "text/x-python",
   "name": "python",
   "nbconvert_exporter": "python",
   "pygments_lexer": "ipython3",
   "version": "3.11.5"
  }
 },
 "nbformat": 4,
 "nbformat_minor": 2
}
