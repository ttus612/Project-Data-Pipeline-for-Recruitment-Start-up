{
 "cells": [
  {
   "cell_type": "code",
   "execution_count": 123,
   "metadata": {},
   "outputs": [],
   "source": [
    "#Pyspark connect to Cassandra"
   ]
  },
  {
   "cell_type": "code",
   "execution_count": 124,
   "metadata": {},
   "outputs": [],
   "source": [
    "from pyspark.sql import SparkSession\n"
   ]
  },
  {
   "cell_type": "code",
   "execution_count": 125,
   "metadata": {},
   "outputs": [],
   "source": [
    "spark = SparkSession.builder.config('spark.jars.packages', 'com.datastax.spark:spark-cassandra-connector_2.12:3.1.0').getOrCreate()"
   ]
  },
  {
   "cell_type": "code",
   "execution_count": 126,
   "metadata": {},
   "outputs": [],
   "source": [
    "spark_df = spark.read.format(\"org.apache.spark.sql.cassandra\").options(table='tracking',keyspace='study_data_engineering').load()"
   ]
  },
  {
   "cell_type": "code",
   "execution_count": 127,
   "metadata": {},
   "outputs": [
    {
     "name": "stdout",
     "output_type": "stream",
     "text": [
      "root\n",
      " |-- create_time: string (nullable = false)\n",
      " |-- bid: double (nullable = true)\n",
      " |-- bn: string (nullable = true)\n",
      " |-- campaign_id: double (nullable = true)\n",
      " |-- cd: double (nullable = true)\n",
      " |-- custom_track: string (nullable = true)\n",
      " |-- de: string (nullable = true)\n",
      " |-- dl: string (nullable = true)\n",
      " |-- dt: string (nullable = true)\n",
      " |-- ed: string (nullable = true)\n",
      " |-- ev: double (nullable = true)\n",
      " |-- group_id: double (nullable = true)\n",
      " |-- id: string (nullable = true)\n",
      " |-- job_id: double (nullable = true)\n",
      " |-- md: string (nullable = true)\n",
      " |-- publisher_id: double (nullable = true)\n",
      " |-- rl: string (nullable = true)\n",
      " |-- sr: string (nullable = true)\n",
      " |-- ts: string (nullable = true)\n",
      " |-- tz: double (nullable = true)\n",
      " |-- ua: string (nullable = true)\n",
      " |-- uid: string (nullable = true)\n",
      " |-- utm_campaign: string (nullable = true)\n",
      " |-- utm_content: string (nullable = true)\n",
      " |-- utm_medium: string (nullable = true)\n",
      " |-- utm_source: string (nullable = true)\n",
      " |-- utm_term: string (nullable = true)\n",
      " |-- v: double (nullable = true)\n",
      " |-- vp: string (nullable = true)\n",
      "\n"
     ]
    }
   ],
   "source": [
    "spark_df.printSchema()"
   ]
  },
  {
   "cell_type": "code",
   "execution_count": 128,
   "metadata": {},
   "outputs": [
    {
     "name": "stdout",
     "output_type": "stream",
     "text": [
      "+--------------------+----+----------+-----------+----+------------+-----+--------------------+---------------+--------------------+---+--------+----+------+----+------------+--------------------+---------+--------------------+------+--------------------+-------------------+------------+-----------+----------+----------+--------+---+--------+\n",
      "|         create_time| bid|        bn|campaign_id|  cd|custom_track|   de|                  dl|             dt|                  ed| ev|group_id|  id|job_id|  md|publisher_id|                  rl|       sr|                  ts|    tz|                  ua|                uid|utm_campaign|utm_content|utm_medium|utm_source|utm_term|  v|      vp|\n",
      "+--------------------+----+----------+-----------+----+------------+-----+--------------------+---------------+--------------------+---+--------+----+------+----+------------+--------------------+---------+--------------------+------+--------------------+-------------------+------------+-----------+----------+----------+--------+---+--------+\n",
      "|96be7880-0d60-11e...| 1.0|Chrome 103|       93.0|24.0|        NULL|UTF-8|http://fe.dev.got...|CandidatePortal|                NULL|1.0|    NULL|NULL| 258.0|true|         1.0|                NULL| 1366x768|2022-07-27 04:00:...|-420.0|Mozilla/5.0 (Wind...|1-347wwfkr-l632u1zk|        NULL|       NULL|      NULL|      NULL|    NULL|1.0|1366x625|\n",
      "|66238f50-0caf-11e...| 2.0|Chrome 103|        4.0|24.0|        NULL|UTF-8|http://fe.dev.got...|CandidatePortal|                NULL|1.0|    NULL|NULL|  98.0|true|         1.0|                NULL| 1366x768|2022-07-26 06:51:...|-420.0|Mozilla/5.0 (Wind...|1-kntupfok-l61tduvk|        NULL|       NULL|      NULL|      NULL|    NULL|1.0|1366x625|\n",
      "|3ee3fef0-fe79-11e...|NULL|Chrome 102|       NULL|24.0|        NULL|UTF-8|http://localhost:...|CandidatePortal|                NULL|1.0|    NULL|NULL|  NULL|true|        NULL|http://localhost:...|1920x1080|2022-07-08 04:48:...|-420.0|Mozilla/5.0 (Maci...|1-2e0m174r-l4nx6s72|        NULL|       NULL|      NULL|      html|    NULL|1.0|1669x925|\n",
      "|61242e30-0078-11e...|NULL|Chrome 103|       NULL|24.0|       click|UTF-8|http://localhost:...|CandidatePortal|{\"customEvent\":\"c...|2.0|    NULL|NULL|  NULL|true|        NULL|                NULL| 1536x864|2022-07-10 17:47:...|-420.0|Mozilla/5.0 (Wind...|1-rrc3k5vd-l4o0b4yy|        NULL|       NULL|      NULL|      NULL|    NULL|1.0|1018x714|\n",
      "|e130c730-0999-11e...|NULL|Chrome 103|       NULL|30.0|       click|UTF-8|http://fe.dev.got...|CandidatePortal|{\"customEvent\":\"c...|2.0|    NULL|NULL|  NULL|true|        NULL|                NULL| 1440x900|2022-07-22 08:40:...|-420.0|Mozilla/5.0 (Maci...|1-37wlw8bf-l5ugf5ix|        NULL|       NULL|      NULL|      NULL|    NULL|1.0|1440x797|\n",
      "|b6188990-0c03-11e...|NULL|Chrome 103|       NULL|24.0|        NULL|UTF-8|http://localhost:...|CandidatePortal|                NULL|1.0|    NULL|NULL|  NULL|true|        NULL|                NULL|1920x1080|2022-07-25 10:22:...|-420.0|Mozilla/5.0 (Maci...|1-j806pz4h-l5xomouh|        NULL|       NULL|      NULL|      NULL|    NULL|1.0|1320x944|\n",
      "|d241c2e0-0d60-11e...| 1.0|Chrome 103|       48.0|24.0|        NULL|UTF-8|http://fe.dev.got...|CandidatePortal|                NULL|1.0|    34.0|NULL| 187.0|true|         1.0|                NULL| 1366x768|2022-07-27 04:01:...|-420.0|Mozilla/5.0 (Wind...|1-347wwfkr-l632u1zk|        NULL|       NULL|      NULL|      NULL|    NULL|1.0|1366x625|\n",
      "|431344c0-0650-11e...|NULL|Chrome 102|       NULL|24.0|        NULL|UTF-8|http://localhost:...|CandidatePortal|                NULL|1.0|    NULL|NULL|  NULL|true|        NULL|                NULL|1920x1080|2022-07-18 04:15:...|-420.0|Mozilla/5.0 (Maci...|1-ok78d38x-l5j7ka8p|        NULL|       NULL|      NULL|      NULL|    NULL|1.0| 829x976|\n",
      "|15f184d0-0965-11e...|NULL|Chrome 102|       NULL|24.0|       click|UTF-8|http://localhost:...|CandidatePortal|{\"customEvent\":\"c...|2.0|    NULL|NULL|  NULL|true|        NULL|http://localhost:...|1920x1080|2022-07-22 02:22:...|-420.0|Mozilla/5.0 (Maci...|1-ok78d38x-l5j7ka8p|        NULL|       NULL|      NULL|      NULL|    NULL|1.0|1165x976|\n",
      "|f8f0f3a0-0bff-11e...| 0.0|Chrome 103|      222.0|24.0|        NULL|UTF-8|http://fe.dev.got...|CandidatePortal|                NULL|1.0|    NULL|NULL|1530.0|true|         1.0|                NULL| 1366x768|2022-07-25 09:55:...|-420.0|Mozilla/5.0 (Wind...|1-yh82s4al-l60jlqwa|        NULL|       NULL|      NULL|      NULL|    NULL|1.0|1366x568|\n",
      "|4783a2a0-0cb0-11e...| 0.0|Chrome 103|      222.0|24.0|        NULL|UTF-8|http://fe.dev.got...|CandidatePortal|                NULL|1.0|    NULL|NULL|1529.0|true|         1.0|                NULL| 1366x768|2022-07-26 06:57:...|-420.0|Mozilla/5.0 (Wind...|1-kntupfok-l61tduvk|        NULL|       NULL|      NULL|      NULL|    NULL|1.0|1366x625|\n",
      "|910ba7e0-fea2-11e...| 2.0|Chrome 103|        4.0|24.0|        NULL|UTF-8|http://150.230.18...|CandidatePortal|                NULL|1.0|    NULL|NULL|  98.0|true|         1.0|                NULL| 1366x768|2022-07-08 09:44:...|-420.0|Mozilla/5.0 (Wind...|1-c5v39kv8-l5c94dee|        NULL|       NULL|      NULL|      NULL|    NULL|1.0|1366x625|\n",
      "|e7261970-0cae-11e...| 1.0|Chrome 103|       48.0|24.0|       click|UTF-8|http://fe.dev.got...|CandidatePortal|{\"customEvent\":\"c...|2.0|    34.0|NULL| 187.0|true|         1.0|                NULL| 1366x768|2022-07-26 06:48:...|-420.0|Mozilla/5.0 (Wind...|1-kntupfok-l61tduvk|        NULL|       NULL|      NULL|      NULL|    NULL|1.0|1366x625|\n",
      "|89041100-0d60-11e...| 1.0|Chrome 103|       48.0|24.0|       click|UTF-8|http://fe.dev.got...|CandidatePortal|{\"customEvent\":\"c...|2.0|    34.0|NULL| 188.0|true|         1.0|                NULL| 1366x768|2022-07-27 03:59:...|-420.0|Mozilla/5.0 (Wind...|1-347wwfkr-l632u1zk|        NULL|       NULL|      NULL|      NULL|    NULL|1.0|1366x625|\n",
      "|bf25e720-074a-11e...|NULL|Chrome 103|       NULL|24.0|        NULL|UTF-8|http://150.136.2....|CandidatePortal|                NULL|1.0|    NULL|NULL|  NULL|true|        NULL|                NULL| 1366x768|2022-07-19 10:08:...|-420.0|Mozilla/5.0 (Wind...|1-cwkkdhs8-l5j2zi4w|        NULL|       NULL|      NULL|      NULL|    NULL|1.0|1366x657|\n",
      "|e951fc40-089f-11e...|NULL|Chrome 103|       NULL|24.0|       click|UTF-8|http://150.230.18...|CandidatePortal|{\"customEvent\":\"c...|2.0|    NULL|NULL|  NULL|true|        NULL|                NULL|1920x1080|2022-07-21 02:50:...|-420.0|Mozilla/5.0 (Maci...|1-4lva4hrh-l5te7l3b|        NULL|       NULL|      NULL|      NULL|    NULL|1.0|1920x884|\n",
      "|31801960-0c02-11e...|NULL|Chrome 103|       NULL|24.0|        NULL|UTF-8|http://localhost:...|CandidatePortal|                NULL|1.0|    NULL|NULL|  NULL|true|        NULL|                NULL|1920x1080|2022-07-25 10:11:...|-420.0|Mozilla/5.0 (Maci...|1-j806pz4h-l5xomouh|        NULL|       NULL|      NULL|      NULL|    NULL|1.0|1320x944|\n",
      "|b84c8210-fe85-11e...| 2.0|Chrome 103|       48.0|24.0|       click|UTF-8|http://150.230.18...|CandidatePortal|{\"customEvent\":\"c...|2.0|    NULL|NULL| 187.0|true|         1.0|                NULL|1920x1080|2022-07-08 06:15:...|-420.0|Mozilla/5.0 (Wind...|1-bekm4s4w-l5aghjrk|        NULL|       NULL|      NULL|      1310|    NULL|1.0|1103x929|\n",
      "|be51a510-0b59-11e...| 1.0|Chrome 103|       48.0|24.0|        NULL|UTF-8|http://fe.dev.got...|CandidatePortal|                NULL|1.0|    34.0|NULL| 188.0|true|         1.0|                NULL| 1366x768|2022-07-24 14:05:...|-420.0|Mozilla/5.0 (Wind...|1-zof0i457-l5ze6uuv|        NULL|       NULL|      NULL|      NULL|    NULL|1.0|1366x625|\n",
      "|49bac740-0447-11e...|NULL|Chrome 102|       NULL|30.0|        NULL|UTF-8|http://localhost:...|CandidatePortal|                NULL|1.0|    NULL|NULL|  NULL|true|        NULL|http://localhost:...| 1440x900|2022-07-15 14:06:...|-420.0|Mozilla/5.0 (Maci...|1-ok78d38x-l5j7ka8p|        NULL|       NULL|      NULL|      NULL|    NULL|1.0|1440x745|\n",
      "+--------------------+----+----------+-----------+----+------------+-----+--------------------+---------------+--------------------+---+--------+----+------+----+------------+--------------------+---------+--------------------+------+--------------------+-------------------+------------+-----------+----------+----------+--------+---+--------+\n",
      "only showing top 20 rows\n",
      "\n"
     ]
    }
   ],
   "source": [
    "spark_df.show()"
   ]
  },
  {
   "cell_type": "code",
   "execution_count": 129,
   "metadata": {},
   "outputs": [
    {
     "name": "stdout",
     "output_type": "stream",
     "text": [
      "+--------------------+------+------------+---+-----------+--------+------------+\n",
      "|                  ts|job_id|custom_track|bid|campaign_id|group_id|publisher_id|\n",
      "+--------------------+------+------------+---+-----------+--------+------------+\n",
      "|2022-07-27 04:11:...|1527.0|       click|0.0|      222.0|    NULL|         1.0|\n",
      "|2022-07-24 10:05:...| 188.0|        NULL|1.0|       48.0|    34.0|         1.0|\n",
      "|2022-07-24 14:07:...| 188.0|       click|1.0|       48.0|    34.0|         1.0|\n",
      "|2022-07-24 10:06:...| 188.0|       click|1.0|       48.0|    34.0|         1.0|\n",
      "|2022-07-25 09:52:...|1533.0|       click|0.0|      222.0|    NULL|         1.0|\n",
      "|2022-07-25 10:00:...| 273.0|        NULL|0.0|       48.0|    NULL|         1.0|\n",
      "|2022-07-26 06:57:...| 273.0|       click|0.0|       48.0|    NULL|         1.0|\n",
      "|2022-07-27 04:20:...|1532.0|       click|0.0|      222.0|    NULL|         1.0|\n",
      "|2022-07-25 09:51:...|1532.0|        NULL|0.0|      222.0|    NULL|         1.0|\n",
      "|2022-07-26 06:58:...|1529.0|       click|0.0|      222.0|    NULL|         1.0|\n",
      "|2022-07-27 04:01:...| 187.0|        NULL|1.0|       48.0|    34.0|         1.0|\n",
      "|2022-07-26 06:54:...|1103.0|       click|0.0|      151.0|    28.0|         1.0|\n",
      "|2022-07-08 09:30:...|  98.0|       click|2.0|        4.0|    NULL|         1.0|\n",
      "|2022-07-25 09:48:...|1534.0|        NULL|0.0|      222.0|    NULL|         1.0|\n",
      "|2022-07-27 04:01:...| 187.0|        NULL|1.0|       48.0|    34.0|         1.0|\n",
      "|2022-07-27 04:18:...|1531.0|        NULL|0.0|      222.0|    NULL|         1.0|\n",
      "|2022-07-27 04:21:...|1532.0|       click|0.0|      222.0|    NULL|         1.0|\n",
      "|2022-07-24 10:07:...| 188.0|        NULL|1.0|       48.0|    34.0|         1.0|\n",
      "|2022-07-27 04:24:...|1534.0|       click|0.0|      222.0|    NULL|         1.0|\n",
      "|2022-07-26 06:46:...| 258.0|        NULL|1.0|       93.0|    NULL|         1.0|\n",
      "+--------------------+------+------------+---+-----------+--------+------------+\n",
      "only showing top 20 rows\n",
      "\n"
     ]
    }
   ],
   "source": [
    "data = spark_df.select('ts','job_id','custom_track','bid','campaign_id','group_id','publisher_id')\n",
    "data = data.filter(data.job_id.isNotNull())\n",
    "data.show()"
   ]
  },
  {
   "cell_type": "code",
   "execution_count": 130,
   "metadata": {},
   "outputs": [
    {
     "name": "stdout",
     "output_type": "stream",
     "text": [
      "+------------+\n",
      "|custom_track|\n",
      "+------------+\n",
      "|       click|\n",
      "|   qualified|\n",
      "| unqualified|\n",
      "|  conversion|\n",
      "|       alive|\n",
      "|        NULL|\n",
      "+------------+\n",
      "\n"
     ]
    }
   ],
   "source": [
    "data.select(\"custom_track\").distinct().show()"
   ]
  },
  {
   "cell_type": "code",
   "execution_count": 131,
   "metadata": {},
   "outputs": [],
   "source": [
    "#process click data \n",
    "click_data = data.filter(data.custom_track == 'click')\n",
    "click_data.createOrReplaceTempView('click_data')\n",
    "click_data = spark.sql(\"\"\" \n",
    "            SELECT \n",
    "                date(ts) as date,\n",
    "                hour(ts) as hour,\n",
    "                job_id,\n",
    "                publisher_id,\n",
    "                campaign_id,\n",
    "                group_id,\n",
    "                round(avg(bid),2) as bid_set, \n",
    "                sum(bid) as spend_hour, \n",
    "                count(*) as click \n",
    "            FROM click_data \n",
    "            GROUP BY date(ts), hour(ts), job_id, publisher_id, campaign_id, group_id \"\"\"\n",
    "        )"
   ]
  },
  {
   "cell_type": "code",
   "execution_count": 132,
   "metadata": {},
   "outputs": [],
   "source": [
    "#process conversion data\n",
    "conversion_data = data.filter(data.custom_track == 'conversion')\n",
    "conversion_data.createOrReplaceTempView('conversion_data')\n",
    "conversion_data = spark.sql(\"\"\" \n",
    "            SELECT \n",
    "                date(ts) as date,\n",
    "                hour(ts) as hour,\n",
    "                job_id,\n",
    "                publisher_id,\n",
    "                campaign_id,\n",
    "                group_id, \n",
    "                count(*) as conversion \n",
    "            FROM conversion_data \n",
    "            GROUP BY date(ts), hour(ts), job_id, publisher_id, campaign_id, group_id \"\"\"\n",
    "        )"
   ]
  },
  {
   "cell_type": "code",
   "execution_count": 133,
   "metadata": {},
   "outputs": [],
   "source": [
    "#process qualified data\n",
    "qualified_data = data.filter(data.custom_track == 'qualified')\n",
    "qualified_data.createOrReplaceTempView('qualified_data')\n",
    "qualified_data = spark.sql(\"\"\" \n",
    "            SELECT \n",
    "                date(ts) as date,\n",
    "                hour(ts) as hour,\n",
    "                job_id,\n",
    "                publisher_id,\n",
    "                campaign_id,\n",
    "                group_id, \n",
    "                count(*) as qualified \n",
    "            FROM conversion_data \n",
    "            GROUP BY date(ts), hour(ts), job_id, publisher_id, campaign_id, group_id \"\"\"\n",
    "        )"
   ]
  },
  {
   "cell_type": "code",
   "execution_count": 134,
   "metadata": {},
   "outputs": [],
   "source": [
    "#process unqualified data \n",
    "unqualified_data = data.filter(data.custom_track == 'unqualified')\n",
    "unqualified_data.createOrReplaceTempView('unqualified_data')\n",
    "unqualified_data = spark.sql(\"\"\" \n",
    "            SELECT \n",
    "                date(ts) as date,\n",
    "                hour(ts) as hour,\n",
    "                job_id,\n",
    "                publisher_id,\n",
    "                campaign_id,\n",
    "                group_id, \n",
    "                count(*) as unqualified \n",
    "            FROM conversion_data \n",
    "            GROUP BY date(ts), hour(ts), job_id, publisher_id, campaign_id, group_id \"\"\"\n",
    "        )"
   ]
  },
  {
   "cell_type": "code",
   "execution_count": 135,
   "metadata": {},
   "outputs": [
    {
     "name": "stdout",
     "output_type": "stream",
     "text": [
      "+----------+----+------+------------+-----------+--------+-------+----------+-----+----------+---------+-----------+\n",
      "|      date|hour|job_id|publisher_id|campaign_id|group_id|bid_set|spend_hour|click|conversion|qualified|unqualified|\n",
      "+----------+----+------+------------+-----------+--------+-------+----------+-----+----------+---------+-----------+\n",
      "|2022-07-07|   3| 187.0|         1.0|       48.0|    NULL|   0.33|       2.0|    6|      NULL|     NULL|       NULL|\n",
      "|2022-07-08|   4| 187.0|         1.0|       48.0|    NULL|    0.0|       0.0|    2|      NULL|     NULL|       NULL|\n",
      "|2022-07-08|   6| 187.0|         1.0|       48.0|    NULL|    2.0|      12.0|    6|      NULL|     NULL|       NULL|\n",
      "|2022-07-08|   9|  98.0|         1.0|        4.0|    NULL|    2.0|     216.0|  108|      NULL|     NULL|       NULL|\n",
      "|2022-07-08|   9| 258.0|         3.0|       93.0|    NULL|    2.0|       2.0|    1|      NULL|     NULL|       NULL|\n",
      "|2022-07-13|  15|  98.0|         1.0|        4.0|    NULL|    2.0|       2.0|    1|      NULL|     NULL|       NULL|\n",
      "|2022-07-24|  10| 188.0|         1.0|       48.0|    34.0|    1.0|      25.0|   25|      NULL|     NULL|       NULL|\n",
      "|2022-07-24|  14| 188.0|         1.0|       48.0|    34.0|    1.0|      86.0|   86|      NULL|     NULL|       NULL|\n",
      "|2022-07-25|   9| 188.0|         1.0|       48.0|    34.0|    1.0|      52.0|   52|      NULL|     NULL|       NULL|\n",
      "|2022-07-25|   9|1527.0|         1.0|      222.0|    NULL|    0.0|       0.0|    3|      NULL|     NULL|       NULL|\n",
      "|2022-07-25|   9|1529.0|         1.0|      222.0|    NULL|    0.0|       0.0|    3|      NULL|     NULL|       NULL|\n",
      "|2022-07-25|   9|1530.0|         1.0|      222.0|    NULL|    0.0|       0.0|   11|      NULL|     NULL|       NULL|\n",
      "|2022-07-25|   9|1531.0|         1.0|      222.0|    NULL|    0.0|       0.0|   23|      NULL|     NULL|       NULL|\n",
      "|2022-07-25|   9|1532.0|         1.0|      222.0|    NULL|    0.0|       0.0|   17|      NULL|     NULL|       NULL|\n",
      "|2022-07-25|   9|1533.0|         1.0|      222.0|    NULL|    0.0|       0.0|   19|      NULL|     NULL|       NULL|\n",
      "|2022-07-25|   9|1534.0|         1.0|      222.0|    NULL|    0.0|       0.0|   17|      NULL|     NULL|       NULL|\n",
      "|2022-07-25|  10| 273.0|         1.0|       48.0|    NULL|    0.0|       0.0|    8|      NULL|     NULL|       NULL|\n",
      "|2022-07-25|  10|1527.0|         1.0|      222.0|    NULL|    0.0|       0.0|   13|      NULL|     NULL|       NULL|\n",
      "|2022-07-25|  10|1529.0|         1.0|      222.0|    NULL|    0.0|       0.0|   10|      NULL|     NULL|       NULL|\n",
      "|2022-07-25|  10|1530.0|         1.0|      222.0|    NULL|    0.0|       0.0|    8|      NULL|     NULL|       NULL|\n",
      "+----------+----+------+------------+-----------+--------+-------+----------+-----+----------+---------+-----------+\n",
      "only showing top 20 rows\n",
      "\n"
     ]
    }
   ],
   "source": [
    "#finalize output full join\n",
    "result = click_data.join(conversion_data, ['date','hour','job_id','publisher_id','campaign_id','group_id'], how='outer')\n",
    "result = result.join(qualified_data, ['date','hour','job_id','publisher_id','campaign_id','group_id'], how='outer')\n",
    "result = result.join(unqualified_data, ['date','hour','job_id','publisher_id','campaign_id','group_id'], how='outer')\n",
    "result.show()\n"
   ]
  },
  {
   "cell_type": "code",
   "execution_count": 136,
   "metadata": {},
   "outputs": [
    {
     "name": "stdout",
     "output_type": "stream",
     "text": [
      "+---+----------+--------------------+----------------+--------------------+---------+-----------------+-----------------+------------------+--------------------+----------+-----------+-------------+------+------------+---------+-------------------+--------------------+\n",
      "| id|created_by|        created_date|last_modified_by|  last_modified_date|is_active|             name|is_agree_conditon|is_agree_sign_deal|      sign_deal_user|billing_id|manage_type|customer_type|status|publisher_id|flat_rate|percentage_of_click|                logo|\n",
      "+---+----------+--------------------+----------------+--------------------+---------+-----------------+-----------------+------------------+--------------------+----------+-----------+-------------+------+------------+---------+-------------------+--------------------+\n",
      "|  1|    myuser| 2022-04-14 02:53:36|          myuser| 2022-07-26 15:58:30|        1|           GOTORO|                1|                 1|trananhtuan2495@g...|      NULL|          2|            1|     1|        NULL|     NULL|               NULL|https://objectsto...|\n",
      "|  2|      NULL| 2022-05-14 02:53:36|           admin| 2022-07-16 09:19:04|        1|              FPT|                1|                 1|  tien2495@gmail.com|      NULL|          2|            1|     1|        NULL|     NULL|               NULL|                NULL|\n",
      "|  3|     admin|2022-05-08 04:16:...|           admin| 2022-07-18 08:22:11|        1|      Gotoro 0805|                1|                 1|cusinh2606@gmail.com|         2|          1|            2|     1|        NULL|     NULL|               NULL|                NULL|\n",
      "|  4|     admin|2022-05-08 04:19:...|           admin| 2022-07-22 09:39:04|        1|            Fsoft|                0|                 0|fsoftaccount@gmai...|         3|          1|            2|     1|        NULL|     NULL|               NULL|                NULL|\n",
      "|  8|     admin|2022-05-10 06:46:...|           admin|2022-05-25 04:30:...|        1|Publisher Company|                1|                 1|waltdisne1y@gmail...|      NULL|          3|            4|     1|        NULL|     NULL|               NULL|                NULL|\n",
      "| 10|     admin|2022-05-10 06:48:...|           admin| 2022-07-18 03:23:14|        1|         Gotoro 6|                1|                 1|waltdisne1y6@gmai...|         9|          1|            4|     1|        NULL|     NULL|               NULL|                NULL|\n",
      "| 11|     admin|2022-05-10 07:17:...|           admin| 2022-07-18 03:22:37|        1|le the anh test 1|                0|                 0|letheanh260799@gm...|        10|          1|            1|     0|        NULL|     NULL|               NULL|                NULL|\n",
      "| 12|     admin|2022-05-10 07:19:...|           admin| 2022-07-18 03:22:29|        1|le the anh test 2|                0|                 0|AnhLT90@fsoft.com.vn|        11|          1|            1|     0|        NULL|     NULL|               NULL|                NULL|\n",
      "| 13|     admin|2022-05-10 13:38:...|           admin| 2022-06-02 06:31:59|        1|        Gotoro 67|                1|                 1|waltdisneylta@gma...|        12|          1|            2|     0|        NULL|     NULL|               NULL|                NULL|\n",
      "| 14|     admin|2022-05-10 13:42:...|           admin| 2022-06-02 06:32:24|        1|     Gotoro 10051|                0|                 0|waltdisneylta1005...|        13|          1|            2|     0|        NULL|     NULL|               NULL|                NULL|\n",
      "| 15|     admin|2022-05-10 14:33:...|           admin| 2022-06-30 16:14:23|        1|    Gotoro 10052 |                1|                 1|waltdisney10052@g...|        14|          1|            2|     1|        NULL|     NULL|               NULL|                NULL|\n",
      "| 16|     admin|2022-05-10 15:53:...|           admin|2022-05-10 15:53:...|        1|     Gotoro 10053|                0|                 0|waltdisney10053@g...|        15|          1|            2|     1|        NULL|     NULL|               NULL|                NULL|\n",
      "| 17|     admin|2022-05-11 03:26:...|           admin| 2022-05-11 03:54:59|        1|          Gotoro4|                1|                 0|waltdisney10054@g...|        16|          1|            2|     1|        NULL|     NULL|               NULL|                NULL|\n",
      "| 19|     admin|2022-05-11 04:21:...|           admin|2022-05-11 04:21:...|        1|     Gotoro 10056|                0|                 0|waltdisney10056@g...|        18|          1|            2|     1|        NULL|     NULL|               NULL|                NULL|\n",
      "| 20|     admin|2022-05-11 07:02:...|           admin| 2022-05-11 13:37:06|        1|     Gotoro 10057|                1|                 0|waltdisney10057@g...|        19|          1|            2|     1|        NULL|     NULL|               NULL|                NULL|\n",
      "| 21|     admin|2022-05-12 02:28:...|           admin|2022-05-12 02:29:...|        1|          Ben BEn|                1|                 0|    sinhcl@gmail.com|        20|          1|            2|     1|        NULL|     NULL|               NULL|                NULL|\n",
      "| 23|     admin|2022-05-20 03:09:...|           admin|2022-05-20 03:09:...|        1|          suphan1|                0|                 0|vansuphan898@gmai...|        22|          2|            3|     1|        NULL|     NULL|               NULL|                NULL|\n",
      "| 24|     admin|2022-05-20 03:48:...|           admin|2022-05-20 03:48:...|        1|    test user 100|                0|                 0|vansuphan.kma@gma...|        23|          2|            2|     1|        NULL|     NULL|               NULL|                NULL|\n",
      "| 25|     admin|2022-05-20 03:52:...|           admin| 2022-06-30 16:14:49|        1|   test user 1000|                1|                 1|vansuphan889@gmai...|        24|          1|            2|     1|        NULL|     NULL|               NULL|                NULL|\n",
      "| 26|     admin|2022-05-20 04:42:...|           admin|2022-05-20 04:42:...|        1|    test user 101|                0|                 0|vansuphan8800@gma...|        25|          2|            2|     1|        NULL|     NULL|               NULL|                NULL|\n",
      "+---+----------+--------------------+----------------+--------------------+---------+-----------------+-----------------+------------------+--------------------+----------+-----------+-------------+------+------------+---------+-------------------+--------------------+\n",
      "only showing top 20 rows\n",
      "\n"
     ]
    }
   ],
   "source": [
    "df_company = spark.read \\\n",
    "    .format(\"jdbc\") \\\n",
    "    .option(\"driver\",\"com.mysql.cj.jdbc.Driver\") \\\n",
    "    .option(\"url\", \"jdbc:mysql://localhost:3306/Data_Warehouse\") \\\n",
    "    .option(\"dbtable\", \"company\") \\\n",
    "    .option(\"user\", \"root\") \\\n",
    "    .option(\"password\", \"1\") \\\n",
    "    .load()\n",
    "\n",
    "df_company.show()"
   ]
  },
  {
   "cell_type": "code",
   "execution_count": 137,
   "metadata": {},
   "outputs": [],
   "source": [
    "#merge company_id vào output \n",
    "data_company = df_company.select('id', 'created_date')\n",
    "data_company.createOrReplaceTempView('company')\n",
    "data_company = spark.sql(\"\"\" \n",
    "                            SELECT \n",
    "                            id as company_id, \n",
    "                            date(created_date) as date,\n",
    "                            hour(created_date) as hour\n",
    "                            FROM company \n",
    "                        \"\"\")"
   ]
  },
  {
   "cell_type": "code",
   "execution_count": 138,
   "metadata": {},
   "outputs": [
    {
     "name": "stdout",
     "output_type": "stream",
     "text": [
      "+----------+----+------+------------+-----------+--------+-------+----------+-----+----------+---------+-----------+----------+\n",
      "|      date|hour|job_id|publisher_id|campaign_id|group_id|bid_set|spend_hour|click|conversion|qualified|unqualified|company_id|\n",
      "+----------+----+------+------------+-----------+--------+-------+----------+-----+----------+---------+-----------+----------+\n",
      "|2022-07-07|   3| 187.0|         1.0|       48.0|    NULL|   0.33|       2.0|    6|      NULL|     NULL|       NULL|      NULL|\n",
      "|2022-07-08|   4| 187.0|         1.0|       48.0|    NULL|    0.0|       0.0|    2|      NULL|     NULL|       NULL|      NULL|\n",
      "|2022-07-08|   6| 187.0|         1.0|       48.0|    NULL|    2.0|      12.0|    6|      NULL|     NULL|       NULL|      NULL|\n",
      "|2022-07-08|   9|  98.0|         1.0|        4.0|    NULL|    2.0|     216.0|  108|      NULL|     NULL|       NULL|      NULL|\n",
      "|2022-07-08|   9| 258.0|         3.0|       93.0|    NULL|    2.0|       2.0|    1|      NULL|     NULL|       NULL|      NULL|\n",
      "|2022-07-13|  15|  98.0|         1.0|        4.0|    NULL|    2.0|       2.0|    1|      NULL|     NULL|       NULL|      NULL|\n",
      "|2022-07-24|  10| 188.0|         1.0|       48.0|    34.0|    1.0|      25.0|   25|      NULL|     NULL|       NULL|      NULL|\n",
      "|2022-07-24|  14| 188.0|         1.0|       48.0|    34.0|    1.0|      86.0|   86|      NULL|     NULL|       NULL|      NULL|\n",
      "|2022-07-25|   9| 188.0|         1.0|       48.0|    34.0|    1.0|      52.0|   52|      NULL|     NULL|       NULL|      NULL|\n",
      "|2022-07-25|   9|1527.0|         1.0|      222.0|    NULL|    0.0|       0.0|    3|      NULL|     NULL|       NULL|      NULL|\n",
      "|2022-07-25|   9|1529.0|         1.0|      222.0|    NULL|    0.0|       0.0|    3|      NULL|     NULL|       NULL|      NULL|\n",
      "|2022-07-25|   9|1530.0|         1.0|      222.0|    NULL|    0.0|       0.0|   11|      NULL|     NULL|       NULL|      NULL|\n",
      "|2022-07-25|   9|1531.0|         1.0|      222.0|    NULL|    0.0|       0.0|   23|      NULL|     NULL|       NULL|      NULL|\n",
      "|2022-07-25|   9|1532.0|         1.0|      222.0|    NULL|    0.0|       0.0|   17|      NULL|     NULL|       NULL|      NULL|\n",
      "|2022-07-25|   9|1533.0|         1.0|      222.0|    NULL|    0.0|       0.0|   19|      NULL|     NULL|       NULL|      NULL|\n",
      "|2022-07-25|   9|1534.0|         1.0|      222.0|    NULL|    0.0|       0.0|   17|      NULL|     NULL|       NULL|      NULL|\n",
      "|2022-07-25|  10| 273.0|         1.0|       48.0|    NULL|    0.0|       0.0|    8|      NULL|     NULL|       NULL|      NULL|\n",
      "|2022-07-25|  10|1527.0|         1.0|      222.0|    NULL|    0.0|       0.0|   13|      NULL|     NULL|       NULL|      NULL|\n",
      "|2022-07-25|  10|1529.0|         1.0|      222.0|    NULL|    0.0|       0.0|   10|      NULL|     NULL|       NULL|      NULL|\n",
      "|2022-07-25|  10|1530.0|         1.0|      222.0|    NULL|    0.0|       0.0|    8|      NULL|     NULL|       NULL|      NULL|\n",
      "+----------+----+------+------------+-----------+--------+-------+----------+-----+----------+---------+-----------+----------+\n",
      "only showing top 20 rows\n",
      "\n"
     ]
    }
   ],
   "source": [
    "result = result.join(data_company, ['date','hour'], how='left')\n",
    "result.show()"
   ]
  },
  {
   "cell_type": "code",
   "execution_count": 139,
   "metadata": {},
   "outputs": [],
   "source": [
    "df = spark.read \\\n",
    "    .format(\"jdbc\") \\\n",
    "    .option(\"driver\",\"com.mysql.cj.jdbc.Driver\") \\\n",
    "    .option(\"url\", \"jdbc:mysql://localhost:3306/Data_Warehouse\") \\\n",
    "    .option(\"dbtable\", \"events\") \\\n",
    "    .option(\"user\", \"root\") \\\n",
    "    .option(\"password\", \"1\") \\\n",
    "    .load()"
   ]
  },
  {
   "cell_type": "code",
   "execution_count": 140,
   "metadata": {},
   "outputs": [
    {
     "name": "stdout",
     "output_type": "stream",
     "text": [
      "+----+------+----------+-----+------------------------+---------------------+----------+----------+--------+-----------+------------+-------+------+-----------+----------+---------+\n",
      "|  id|job_id|     dates|hours|disqualified_application|qualified_application|conversion|company_id|group_id|campaign_id|publisher_id|bid_set|clicks|impressions|spend_hour|  sources|\n",
      "+----+------+----------+-----+------------------------+---------------------+----------+----------+--------+-----------+------------+-------+------+-----------+----------+---------+\n",
      "|2089|    98|2022-07-08|    9|                       1|                    0|         1|         1|    NULL|          4|           1|    2.0|   108|       NULL|     216.0|Cassandra|\n",
      "|2090|    98|2022-07-13|   15|                       1|                    0|         1|         1|    NULL|          4|           1|    2.0|     1|       NULL|       2.0|Cassandra|\n",
      "|2091|   187|2022-07-08|    4|                       1|                    0|         1|        33|    NULL|         48|           1|    0.0|     2|       NULL|       0.0|Cassandra|\n",
      "|2092|   187|2022-07-08|    6|                       1|                    0|         1|        33|    NULL|         48|           1|    1.5|     6|       NULL|       9.0|Cassandra|\n",
      "|2093|   258|2022-07-08|    9|                       1|                    0|         1|        33|    NULL|         93|           3|    2.0|     1|       NULL|       2.0|Cassandra|\n",
      "|2094|     2|2022-07-14|    9|                       3|                    0|         3|         1|      10|          1|           1|   NULL|  NULL|       NULL|      NULL|Cassandra|\n",
      "|2101|   188|2022-07-24|   10|                       1|                    0|         1|        33|    NULL|         48|           1|    1.0|    25|       NULL|      25.0|Cassandra|\n",
      "|2102|   188|2022-07-24|   14|                       1|                    0|         1|        33|    NULL|         48|           1|    1.0|    86|       NULL|      86.0|Cassandra|\n",
      "|2115|   188|2022-07-25|    9|                    NULL|                 NULL|      NULL|        33|    NULL|         48|           1|    1.0|    52|       NULL|      52.0|Cassandra|\n",
      "|2116|   273|2022-07-25|   10|                    NULL|                 NULL|      NULL|        33|    NULL|         48|           1|    2.0|     8|       NULL|       0.0|Cassandra|\n",
      "|2117|  1527|2022-07-25|    9|                    NULL|                 NULL|      NULL|         1|      10|          1|           1|    1.0|     3|       NULL|       3.0|Cassandra|\n",
      "|2118|  1527|2022-07-25|   10|                    NULL|                 NULL|      NULL|         1|      10|          1|           1|    1.0|    13|       NULL|      13.0|Cassandra|\n",
      "|2119|  1529|2022-07-25|    9|                    NULL|                 NULL|      NULL|         1|      10|          1|           1|    1.5|     3|       NULL|       4.5|Cassandra|\n",
      "|2120|  1529|2022-07-25|   10|                    NULL|                 NULL|      NULL|         1|      10|          1|           1|    1.5|    10|       NULL|      15.0|Cassandra|\n",
      "|2121|  1530|2022-07-25|    9|                    NULL|                 NULL|      NULL|         1|      10|          1|           1|    2.0|    11|       NULL|      22.0|Cassandra|\n",
      "|2122|  1530|2022-07-25|   10|                    NULL|                 NULL|      NULL|         1|      10|          1|           1|    2.0|     8|       NULL|      16.0|Cassandra|\n",
      "|2123|  1531|2022-07-25|    9|                    NULL|                 NULL|      NULL|        40|      30|         53|           1|    2.0|    23|       NULL|      46.0|Cassandra|\n",
      "|2124|  1532|2022-07-25|    9|                    NULL|                 NULL|      NULL|        15|      31|         69|           1|    1.0|    17|       NULL|      17.0|Cassandra|\n",
      "|2125|  1533|2022-07-25|    9|                    NULL|                 NULL|      NULL|        15|      31|         69|           1|    1.0|    19|       NULL|      19.0|Cassandra|\n",
      "|2126|  1534|2022-07-25|    9|                    NULL|                 NULL|      NULL|        40|      30|         53|           1|    1.0|    17|       NULL|      17.0|Cassandra|\n",
      "+----+------+----------+-----+------------------------+---------------------+----------+----------+--------+-----------+------------+-------+------+-----------+----------+---------+\n",
      "\n"
     ]
    }
   ],
   "source": [
    "df.show()"
   ]
  }
 ],
 "metadata": {
  "kernelspec": {
   "display_name": "Python 3",
   "language": "python",
   "name": "python3"
  },
  "language_info": {
   "codemirror_mode": {
    "name": "ipython",
    "version": 3
   },
   "file_extension": ".py",
   "mimetype": "text/x-python",
   "name": "python",
   "nbconvert_exporter": "python",
   "pygments_lexer": "ipython3",
   "version": "3.11.5"
  }
 },
 "nbformat": 4,
 "nbformat_minor": 4
}
