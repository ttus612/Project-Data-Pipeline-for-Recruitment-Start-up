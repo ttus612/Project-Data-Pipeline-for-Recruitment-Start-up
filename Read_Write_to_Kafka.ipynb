{
 "cells": [
  {
   "cell_type": "code",
   "execution_count": 1,
   "metadata": {},
   "outputs": [],
   "source": [
    "import findspark \n",
    "findspark.init()"
   ]
  },
  {
   "cell_type": "code",
   "execution_count": 2,
   "metadata": {},
   "outputs": [],
   "source": [
    "from pyspark.sql import functions as F\n",
    "from pyspark.sql.types import *\n",
    "from pyspark.sql import SparkSession\n",
    "from pyspark.sql.types import StructType, IntegerType, StringType\n",
    "from pyspark.sql.functions import col"
   ]
  },
  {
   "cell_type": "code",
   "execution_count": 3,
   "metadata": {},
   "outputs": [],
   "source": [
    "scala_version = '2.12'  # TODO: Ensure this is correct\n",
    "spark_version = '3.5.0'\n",
    "packages = [\n",
    "    f'org.apache.spark:spark-sql-kafka-0-10_{scala_version}:{spark_version}',\n",
    "    'org.apache.kafka:kafka-clients:3.3.1'\n",
    "]"
   ]
  },
  {
   "cell_type": "code",
   "execution_count": 4,
   "metadata": {},
   "outputs": [],
   "source": [
    "spark = SparkSession.builder\\\n",
    "   .master(\"local\")\\\n",
    "   .appName(\"kafka-example\")\\\n",
    "   .config(\"spark.jars.packages\", \",\".join(packages))\\\n",
    "   .getOrCreate()"
   ]
  },
  {
   "cell_type": "code",
   "execution_count": 6,
   "metadata": {},
   "outputs": [],
   "source": [
    "df = spark.read.csv('data_test.csv',header=True)"
   ]
  },
  {
   "cell_type": "code",
   "execution_count": 7,
   "metadata": {},
   "outputs": [
    {
     "name": "stdout",
     "output_type": "stream",
     "text": [
      "+---+----------+--------------------+----------------+--------------------+---------+----------+-----+------------------------+---------------------+----------+--------+-----------+------------+------+-------+-------+------+----------+--------------+--------------+-----------+-------+---------+--------+--------+----------------+----------+\n",
      "| id|created_by|        created_date|last_modified_by|  last_modified_date|is_active|     dates|hours|disqualified_application|qualified_application|company_id|group_id|campaign_id|publisher_id|job_id|user_id|bid_set|clicks|spend_hour|invalid_clicks|expired_clicks|impressions|feed_id|  sources|est_time|est_date|est_created_date|conversion|\n",
      "+---+----------+--------------------+----------------+--------------------+---------+----------+-----+------------------------+---------------------+----------+--------+-----------+------------+------+-------+-------+------+----------+--------------+--------------+-----------+-------+---------+--------+--------+----------------+----------+\n",
      "|  1|      NULL|2022-10-21 09:24:...|            NULL|2022-10-21 09:24:...|        1|2022-10-21|    6|                    NULL|                 NULL|       349|     160|        446|         121| 11039|   NULL| 0.0000|     1|    0.0000|          NULL|          NULL|       NULL|    108|Cassandra|    NULL|    NULL|            NULL|      NULL|\n",
      "|  2|      NULL|2022-10-21 09:24:...|            NULL|2022-10-21 09:24:...|        1|2022-10-21|    6|                       2|                    0|       349|     160|        446|           0| 11034|   NULL| 0.5000|     1|    0.5000|          NULL|          NULL|       NULL|      0|Cassandra|    NULL|    NULL|            NULL|      NULL|\n",
      "|  3|      NULL|2022-10-26 02:55:...|            NULL|2022-10-26 02:55:...|        1|2022-10-26|    2|                    NULL|                 NULL|         3|    NULL|        441|           0| 10991|   NULL| 0.5000|     1|    0.5000|          NULL|          NULL|       NULL|      0|Cassandra|    NULL|    NULL|            NULL|      NULL|\n",
      "|  4|      NULL|2022-10-27 06:21:...|            NULL|2022-10-27 06:21:...|        1|2022-10-27|    1|                    NULL|                 NULL|       145|    NULL|        397|           0|  5063|   NULL| 0.5000|     1|    0.5000|          NULL|          NULL|       NULL|      0|Cassandra|    NULL|    NULL|            NULL|      NULL|\n",
      "|  5|      NULL|2022-10-31 04:06:...|            NULL|2022-10-31 04:06:...|        1|2022-10-31|    4|                    NULL|                 NULL|         3|    NULL|        454|           0| 11097|   NULL| 0.5000|     1|    0.5000|          NULL|          NULL|       NULL|    120|Cassandra|    NULL|    NULL|            NULL|      NULL|\n",
      "|  6|      NULL|2022-11-01 01:02:...|            NULL|2022-11-01 01:02:...|        1|2022-11-01|    1|                    NULL|                 NULL|       145|    NULL|        397|           0|  5041|   NULL| 0.5000|     1|    0.5000|          NULL|          NULL|       NULL|      0|Cassandra|    NULL|    NULL|            NULL|      NULL|\n",
      "|  7|      NULL|2022-11-01 08:38:...|            NULL|2022-11-01 08:38:...|        1|2022-11-01|    8|                    NULL|                 NULL|       349|    NULL|        470|         121| 11245|   NULL| 4.0500|     1|    4.0500|          NULL|          NULL|       NULL|    127|Cassandra|    NULL|    NULL|            NULL|      NULL|\n",
      "|  8|      NULL|2022-11-02 08:55:...|            NULL|2022-11-02 08:55:...|        1|2022-11-02|    8|                    NULL|                 NULL|       349|    NULL|        483|         121| 11340|   NULL| 4.0500|     1|    4.0500|          NULL|          NULL|       NULL|    136|Cassandra|    NULL|    NULL|            NULL|      NULL|\n",
      "|  9|      NULL|2022-11-02 08:55:...|            NULL|2022-11-02 08:55:...|        1|2022-11-02|    8|                    NULL|                 NULL|       349|    NULL|        483|           0| 11340|   NULL| 0.5000|     1|    0.5000|          NULL|          NULL|       NULL|      0|Cassandra|    NULL|    NULL|            NULL|      NULL|\n",
      "| 10|      NULL|2022-11-02 09:06:...|            NULL|2022-11-02 09:06:...|        1|2022-11-02|    9|                    NULL|                 NULL|       349|    NULL|        483|         121| 11341|   NULL| 4.0500|     1|    4.0500|          NULL|          NULL|       NULL|    136|Cassandra|    NULL|    NULL|            NULL|      NULL|\n",
      "| 11|      NULL|2022-11-02 09:13:...|            NULL|2022-11-02 09:13:...|        1|2022-11-02|    9|                    NULL|                 NULL|       349|    NULL|        483|         121| 11340|   NULL| 4.0500|     1|    4.0500|          NULL|          NULL|       NULL|    136|Cassandra|    NULL|    NULL|            NULL|      NULL|\n",
      "+---+----------+--------------------+----------------+--------------------+---------+----------+-----+------------------------+---------------------+----------+--------+-----------+------------+------+-------+-------+------+----------+--------------+--------------+-----------+-------+---------+--------+--------+----------------+----------+\n",
      "\n"
     ]
    }
   ],
   "source": [
    "df.show()"
   ]
  },
  {
   "cell_type": "code",
   "execution_count": 14,
   "metadata": {},
   "outputs": [
    {
     "name": "stdout",
     "output_type": "stream",
     "text": [
      "+---+--------------------+\n",
      "|key|               value|\n",
      "+---+--------------------+\n",
      "|  1|{\"id\":\"1\",\"create...|\n",
      "|  2|{\"id\":\"2\",\"create...|\n",
      "|  3|{\"id\":\"3\",\"create...|\n",
      "|  4|{\"id\":\"4\",\"create...|\n",
      "|  5|{\"id\":\"5\",\"create...|\n",
      "|  6|{\"id\":\"6\",\"create...|\n",
      "|  7|{\"id\":\"7\",\"create...|\n",
      "|  8|{\"id\":\"8\",\"create...|\n",
      "|  9|{\"id\":\"9\",\"create...|\n",
      "| 10|{\"id\":\"10\",\"creat...|\n",
      "| 11|{\"id\":\"11\",\"creat...|\n",
      "+---+--------------------+\n",
      "\n"
     ]
    }
   ],
   "source": [
    "df.selectExpr(\"CAST(id AS STRING) AS key\", \"to_json(struct(*)) AS value\").show()"
   ]
  },
  {
   "cell_type": "code",
   "execution_count": 17,
   "metadata": {},
   "outputs": [],
   "source": [
    "df.selectExpr(\"CAST(id AS STRING) AS key\", \"to_json(struct(*)) AS value\") \\\n",
    "    .write.format(\"kafka\").option(\"kafka.bootstrap.servers\", \"localhost:9092\").option(\"topic\", \"test2\").save()"
   ]
  },
  {
   "cell_type": "code",
   "execution_count": 20,
   "metadata": {},
   "outputs": [],
   "source": [
    "df_read = spark \\\n",
    "  .read \\\n",
    "  .format(\"kafka\") \\\n",
    "  .option(\"kafka.bootstrap.servers\", \"localhost:9092\") \\\n",
    "  .option(\"subscribe\", \"test2\") \\\n",
    "  .load()"
   ]
  },
  {
   "cell_type": "code",
   "execution_count": 21,
   "metadata": {},
   "outputs": [
    {
     "name": "stdout",
     "output_type": "stream",
     "text": [
      "+-------+--------------------+-----+---------+------+--------------------+-------------+\n",
      "|    key|               value|topic|partition|offset|           timestamp|timestampType|\n",
      "+-------+--------------------+-----+---------+------+--------------------+-------------+\n",
      "|   [31]|[7B 22 69 64 22 3...|test2|        0|     0|2024-06-19 16:45:...|            0|\n",
      "|   [32]|[7B 22 69 64 22 3...|test2|        0|     1|2024-06-19 16:45:...|            0|\n",
      "|   [33]|[7B 22 69 64 22 3...|test2|        0|     2|2024-06-19 16:45:...|            0|\n",
      "|   [34]|[7B 22 69 64 22 3...|test2|        0|     3|2024-06-19 16:45:...|            0|\n",
      "|   [35]|[7B 22 69 64 22 3...|test2|        0|     4|2024-06-19 16:45:...|            0|\n",
      "|   [36]|[7B 22 69 64 22 3...|test2|        0|     5|2024-06-19 16:45:...|            0|\n",
      "|   [37]|[7B 22 69 64 22 3...|test2|        0|     6|2024-06-19 16:45:...|            0|\n",
      "|   [38]|[7B 22 69 64 22 3...|test2|        0|     7|2024-06-19 16:45:...|            0|\n",
      "|   [39]|[7B 22 69 64 22 3...|test2|        0|     8|2024-06-19 16:45:...|            0|\n",
      "|[31 30]|[7B 22 69 64 22 3...|test2|        0|     9|2024-06-19 16:45:...|            0|\n",
      "|[31 31]|[7B 22 69 64 22 3...|test2|        0|    10|2024-06-19 16:45:...|            0|\n",
      "+-------+--------------------+-----+---------+------+--------------------+-------------+\n",
      "\n"
     ]
    }
   ],
   "source": [
    "df_read.show()"
   ]
  },
  {
   "cell_type": "code",
   "execution_count": 23,
   "metadata": {},
   "outputs": [],
   "source": [
    "final_data = df_read.selectExpr(\"CAST(key AS STRING)\", \"CAST(value AS STRING)\")"
   ]
  },
  {
   "cell_type": "code",
   "execution_count": 24,
   "metadata": {},
   "outputs": [],
   "source": [
    "result = final_data.select('value').filter(final_data.key.isNotNull())"
   ]
  },
  {
   "cell_type": "code",
   "execution_count": 25,
   "metadata": {},
   "outputs": [
    {
     "name": "stdout",
     "output_type": "stream",
     "text": [
      "+--------------------+\n",
      "|               value|\n",
      "+--------------------+\n",
      "|{\"id\":\"1\",\"create...|\n",
      "|{\"id\":\"2\",\"create...|\n",
      "|{\"id\":\"3\",\"create...|\n",
      "|{\"id\":\"4\",\"create...|\n",
      "|{\"id\":\"5\",\"create...|\n",
      "|{\"id\":\"6\",\"create...|\n",
      "|{\"id\":\"7\",\"create...|\n",
      "|{\"id\":\"8\",\"create...|\n",
      "|{\"id\":\"9\",\"create...|\n",
      "|{\"id\":\"10\",\"creat...|\n",
      "|{\"id\":\"11\",\"creat...|\n",
      "+--------------------+\n",
      "\n"
     ]
    }
   ],
   "source": [
    "result.show()"
   ]
  },
  {
   "cell_type": "code",
   "execution_count": 26,
   "metadata": {},
   "outputs": [
    {
     "data": {
      "text/plain": [
       "[Row(value='{\"id\":\"1\",\"created_date\":\"2022-10-21 09:24:25.438490\",\"last_modified_date\":\"2022-10-21 09:24:25.438490\",\"is_active\":\"1\",\"dates\":\"2022-10-21\",\"hours\":\"6\",\"company_id\":\"349\",\"group_id\":\"160\",\"campaign_id\":\"446\",\"publisher_id\":\"121\",\"job_id\":\"11039\",\"bid_set\":\"0.0000\",\"clicks\":\"1\",\"spend_hour\":\"0.0000\",\"feed_id\":\"108\",\"sources\":\"Cassandra\"}')]"
      ]
     },
     "execution_count": 26,
     "metadata": {},
     "output_type": "execute_result"
    }
   ],
   "source": [
    "result.take(1)"
   ]
  },
  {
   "cell_type": "code",
   "execution_count": 27,
   "metadata": {},
   "outputs": [],
   "source": [
    "columns = StructType([StructField('id',\n",
    "                                      StringType(), True),\n",
    "                          StructField('created_date',\n",
    "                                      StringType(), True),\n",
    "                          StructField('last_modified_date',\n",
    "                                      StringType(), True),\n",
    "                          StructField('is_active',\n",
    "                                      StringType(), True),\n",
    "                          StructField('dates',\n",
    "                                      StringType(), True),\n",
    "                          StructField('hours',\n",
    "                                      StringType(), True),\n",
    "                          StructField('company_id',\n",
    "                                      StringType(), True),\n",
    "                          StructField('group_id',\n",
    "                                      StringType(), True),\n",
    "                          StructField('campaign_id',\n",
    "                                      StringType(), True),\n",
    "                          StructField('publisher_id',\n",
    "                                      StringType(), True),\n",
    "                          StructField('job_id',\n",
    "                                      StringType(), True),\n",
    "                          StructField('bid_set',\n",
    "                                      StringType(), True),\n",
    "                          StructField('clicks',\n",
    "                                      StringType(), True),\n",
    "                          StructField('spend_hour',\n",
    "                                      StringType(), True),\n",
    "                          StructField('feed_id',\n",
    "                                      StringType(), True),\n",
    "                          StructField('sources',\n",
    "                                      StringType(), True)])"
   ]
  },
  {
   "cell_type": "code",
   "execution_count": 28,
   "metadata": {},
   "outputs": [],
   "source": [
    "haha = result.withColumn('c1', F.from_json('value', schema = columns)).select('c1.*')"
   ]
  },
  {
   "cell_type": "code",
   "execution_count": 29,
   "metadata": {},
   "outputs": [
    {
     "name": "stdout",
     "output_type": "stream",
     "text": [
      "+---+--------------------+--------------------+---------+----------+-----+----------+--------+-----------+------------+------+-------+------+----------+-------+---------+\n",
      "| id|        created_date|  last_modified_date|is_active|     dates|hours|company_id|group_id|campaign_id|publisher_id|job_id|bid_set|clicks|spend_hour|feed_id|  sources|\n",
      "+---+--------------------+--------------------+---------+----------+-----+----------+--------+-----------+------------+------+-------+------+----------+-------+---------+\n",
      "|  1|2022-10-21 09:24:...|2022-10-21 09:24:...|        1|2022-10-21|    6|       349|     160|        446|         121| 11039| 0.0000|     1|    0.0000|    108|Cassandra|\n",
      "|  2|2022-10-21 09:24:...|2022-10-21 09:24:...|        1|2022-10-21|    6|       349|     160|        446|           0| 11034| 0.5000|     1|    0.5000|      0|Cassandra|\n",
      "|  3|2022-10-26 02:55:...|2022-10-26 02:55:...|        1|2022-10-26|    2|         3|    NULL|        441|           0| 10991| 0.5000|     1|    0.5000|      0|Cassandra|\n",
      "|  4|2022-10-27 06:21:...|2022-10-27 06:21:...|        1|2022-10-27|    1|       145|    NULL|        397|           0|  5063| 0.5000|     1|    0.5000|      0|Cassandra|\n",
      "|  5|2022-10-31 04:06:...|2022-10-31 04:06:...|        1|2022-10-31|    4|         3|    NULL|        454|           0| 11097| 0.5000|     1|    0.5000|    120|Cassandra|\n",
      "|  6|2022-11-01 01:02:...|2022-11-01 01:02:...|        1|2022-11-01|    1|       145|    NULL|        397|           0|  5041| 0.5000|     1|    0.5000|      0|Cassandra|\n",
      "|  7|2022-11-01 08:38:...|2022-11-01 08:38:...|        1|2022-11-01|    8|       349|    NULL|        470|         121| 11245| 4.0500|     1|    4.0500|    127|Cassandra|\n",
      "|  8|2022-11-02 08:55:...|2022-11-02 08:55:...|        1|2022-11-02|    8|       349|    NULL|        483|         121| 11340| 4.0500|     1|    4.0500|    136|Cassandra|\n",
      "|  9|2022-11-02 08:55:...|2022-11-02 08:55:...|        1|2022-11-02|    8|       349|    NULL|        483|           0| 11340| 0.5000|     1|    0.5000|      0|Cassandra|\n",
      "| 10|2022-11-02 09:06:...|2022-11-02 09:06:...|        1|2022-11-02|    9|       349|    NULL|        483|         121| 11341| 4.0500|     1|    4.0500|    136|Cassandra|\n",
      "| 11|2022-11-02 09:13:...|2022-11-02 09:13:...|        1|2022-11-02|    9|       349|    NULL|        483|         121| 11340| 4.0500|     1|    4.0500|    136|Cassandra|\n",
      "+---+--------------------+--------------------+---------+----------+-----+----------+--------+-----------+------------+------+-------+------+----------+-------+---------+\n",
      "\n"
     ]
    }
   ],
   "source": [
    "haha.show()"
   ]
  },
  {
   "cell_type": "code",
   "execution_count": null,
   "metadata": {},
   "outputs": [],
   "source": []
  }
 ],
 "metadata": {
  "kernelspec": {
   "display_name": "Python 3",
   "language": "python",
   "name": "python3"
  },
  "language_info": {
   "codemirror_mode": {
    "name": "ipython",
    "version": 3
   },
   "file_extension": ".py",
   "mimetype": "text/x-python",
   "name": "python",
   "nbconvert_exporter": "python",
   "pygments_lexer": "ipython3",
   "version": "3.11.5"
  }
 },
 "nbformat": 4,
 "nbformat_minor": 4
}
